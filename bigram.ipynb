{
 "cells": [
  {
   "cell_type": "code",
   "execution_count": null,
   "id": "1d4bf9d0",
   "metadata": {},
   "outputs": [
    {
     "name": "stdout",
     "output_type": "stream",
     "text": [
      "cuda\n"
     ]
    }
   ],
   "source": [
    "import torch\n",
    "device = 'cuda' if torch.cuda.is_available() else 'cpu'\n",
    "print(device)\n",
    "block_size = 8\n",
    "batch_size = 4"
   ]
  },
  {
   "cell_type": "code",
   "execution_count": 10,
   "id": "b0328cae-8fd0-4f5c-9f04-1164afc44637",
   "metadata": {},
   "outputs": [],
   "source": [
    "with open('wizard_of_oz.txt', 'r', encoding='utf-8') as f:\n",
    "    text = f.read()\n",
    "chars = sorted(set(text))\n",
    "vocab_size = len(text)"
   ]
  },
  {
   "cell_type": "code",
   "execution_count": 11,
   "id": "3de9254c",
   "metadata": {},
   "outputs": [],
   "source": [
    "string_to_int = {ch:i for i,ch in enumerate(chars)}\n",
    "int_to_string = {i:ch for i,ch in enumerate(chars)}\n",
    "\n",
    "encode = lambda s: [string_to_int[c] for c in s]\n",
    "decode = lambda l: ''.join(int_to_string[i] for i in l)\n",
    "\n",
    "data = torch.tensor(encode(text), dtype=torch.long)"
   ]
  },
  {
   "cell_type": "code",
   "execution_count": 6,
   "id": "de7fd594",
   "metadata": {},
   "outputs": [],
   "source": [
    "n = int(0.8 * len(data))\n",
    "train_data = data[:n]\n",
    "val_data = data[n:]"
   ]
  },
  {
   "cell_type": "code",
   "execution_count": null,
   "id": "7d67e118",
   "metadata": {},
   "outputs": [
    {
     "name": "stdout",
     "output_type": "stream",
     "text": [
      "When input is  tensor([91]) , target is  tensor(48)\n",
      "When input is  tensor([91, 48]) , target is  tensor(65)\n",
      "When input is  tensor([91, 48, 65]) , target is  tensor(62)\n",
      "When input is  tensor([91, 48, 65, 62]) , target is  tensor(1)\n",
      "When input is  tensor([91, 48, 65, 62,  1]) , target is  tensor(44)\n",
      "When input is  tensor([91, 48, 65, 62,  1, 44]) , target is  tensor(75)\n",
      "When input is  tensor([91, 48, 65, 62,  1, 44, 75]) , target is  tensor(72)\n",
      "When input is  tensor([91, 48, 65, 62,  1, 44, 75, 72]) , target is  tensor(67)\n"
     ]
    }
   ],
   "source": [
    "x = train_data[:block_size]\n",
    "y = train_data[1 :block_size + 1]\n",
    "\n",
    "for t in range(block_size):\n",
    "    context = x[:t + 1]\n",
    "    target = y[t]\n",
    "    print(\"When input is \", context  ,\", target is \", target)"
   ]
  }
 ],
 "metadata": {
  "kernelspec": {
   "display_name": "Python 3 (ipykernel)",
   "language": "python",
   "name": "python3"
  },
  "language_info": {
   "codemirror_mode": {
    "name": "ipython",
    "version": 3
   },
   "file_extension": ".py",
   "mimetype": "text/x-python",
   "name": "python",
   "nbconvert_exporter": "python",
   "pygments_lexer": "ipython3",
   "version": "3.13.5"
  }
 },
 "nbformat": 4,
 "nbformat_minor": 5
}
